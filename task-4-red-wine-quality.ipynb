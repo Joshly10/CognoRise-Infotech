{
 "cells": [
  {
   "cell_type": "code",
   "execution_count": 1,
   "id": "91976705",
   "metadata": {
    "_cell_guid": "b1076dfc-b9ad-4769-8c92-a6c4dae69d19",
    "_uuid": "8f2839f25d086af736a60e9eeb907d3b93b6e0e5",
    "execution": {
     "iopub.execute_input": "2024-11-30T02:45:51.704203Z",
     "iopub.status.busy": "2024-11-30T02:45:51.703706Z",
     "iopub.status.idle": "2024-11-30T02:45:52.600469Z",
     "shell.execute_reply": "2024-11-30T02:45:52.599290Z"
    },
    "papermill": {
     "duration": 0.907134,
     "end_time": "2024-11-30T02:45:52.603282",
     "exception": false,
     "start_time": "2024-11-30T02:45:51.696148",
     "status": "completed"
    },
    "tags": []
   },
   "outputs": [
    {
     "name": "stdout",
     "output_type": "stream",
     "text": [
      "/kaggle/input/red-wine-quality-cortez-et-al-2009/winequality-red.csv\n",
      "/kaggle/input/winequality-red-csv/winequality-red.csv\n"
     ]
    }
   ],
   "source": [
    "# This Python 3 environment comes with many helpful analytics libraries installed\n",
    "# It is defined by the kaggle/python Docker image: https://github.com/kaggle/docker-python\n",
    "# For example, here's several helpful packages to load\n",
    "\n",
    "import numpy as np # linear algebra\n",
    "import pandas as pd # data processing, CSV file I/O (e.g. pd.read_csv)\n",
    "\n",
    "# Input data files are available in the read-only \"../input/\" directory\n",
    "# For example, running this (by clicking run or pressing Shift+Enter) will list all files under the input directory\n",
    "\n",
    "import os\n",
    "for dirname, _, filenames in os.walk('/kaggle/input'):\n",
    "    for filename in filenames:\n",
    "        print(os.path.join(dirname, filename))\n",
    "\n",
    "# You can write up to 20GB to the current directory (/kaggle/working/) that gets preserved as output when you create a version using \"Save & Run All\" \n",
    "# You can also write temporary files to /kaggle/temp/, but they won't be saved outside of the current session"
   ]
  },
  {
   "cell_type": "markdown",
   "id": "7d22cebb",
   "metadata": {
    "papermill": {
     "duration": 0.005169,
     "end_time": "2024-11-30T02:45:52.615214",
     "exception": false,
     "start_time": "2024-11-30T02:45:52.610045",
     "status": "completed"
    },
    "tags": []
   },
   "source": [
    "# ### Introduction\r\n",
    "\r\n",
    "The **Red Wine Quality** dataset contains a collection of physicochemical properties of red wine and its sensory quality rating. This dataset, derived from the **Vinho Verde** wines in Portugal, provides valuable insights into the factors that influence the quality of red wine. The dataset includes 11 input variables related to the wine's chemical composition, such as acidity, alcohol content, sugar levels, and sulfur dioxide concentration. The output variable is a quality rating between 0 and 10, which represents the sensory quality of the wine as evaluated by human experts.\r\n",
    "\r\n",
    "The task is to predict wine quality either as a continuous variable (regression) or by classifying wines into different categories, such as 'good' and 'bad'. Given that the dataset is imbalanced, with more wines rated as average or normal than those with higher quality, various techniques like resampling and model evaluation strategies will be used to create a robust predictive model. By analyzing this dataset, we aim to understand which physicochemical features are most strongly associated with high-quality wines, and how we can predict wine quality with the help of machine learning algorithms."
   ]
  },
  {
   "cell_type": "markdown",
   "id": "2eb5939c",
   "metadata": {
    "papermill": {
     "duration": 0.004939,
     "end_time": "2024-11-30T02:45:52.625296",
     "exception": false,
     "start_time": "2024-11-30T02:45:52.620357",
     "status": "completed"
    },
    "tags": []
   },
   "source": [
    "# Step 1: Load the Dataset\n",
    "\n",
    "Load the dataset into a pandas DataFrame and display basic details."
   ]
  },
  {
   "cell_type": "code",
   "execution_count": 2,
   "id": "dd4f85f3",
   "metadata": {
    "execution": {
     "iopub.execute_input": "2024-11-30T02:45:52.637314Z",
     "iopub.status.busy": "2024-11-30T02:45:52.636774Z",
     "iopub.status.idle": "2024-11-30T02:45:54.823713Z",
     "shell.execute_reply": "2024-11-30T02:45:54.822480Z"
    },
    "papermill": {
     "duration": 2.195544,
     "end_time": "2024-11-30T02:45:54.825946",
     "exception": false,
     "start_time": "2024-11-30T02:45:52.630402",
     "status": "completed"
    },
    "tags": []
   },
   "outputs": [
    {
     "name": "stdout",
     "output_type": "stream",
     "text": [
      "Dataset shape: (1599, 12)\n",
      "Columns: Index(['fixed acidity', 'volatile acidity', 'citric acid', 'residual sugar',\n",
      "       'chlorides', 'free sulfur dioxide', 'total sulfur dioxide', 'density',\n",
      "       'pH', 'sulphates', 'alcohol', 'quality'],\n",
      "      dtype='object')\n"
     ]
    },
    {
     "data": {
      "text/html": [
       "<div>\n",
       "<style scoped>\n",
       "    .dataframe tbody tr th:only-of-type {\n",
       "        vertical-align: middle;\n",
       "    }\n",
       "\n",
       "    .dataframe tbody tr th {\n",
       "        vertical-align: top;\n",
       "    }\n",
       "\n",
       "    .dataframe thead th {\n",
       "        text-align: right;\n",
       "    }\n",
       "</style>\n",
       "<table border=\"1\" class=\"dataframe\">\n",
       "  <thead>\n",
       "    <tr style=\"text-align: right;\">\n",
       "      <th></th>\n",
       "      <th>fixed acidity</th>\n",
       "      <th>volatile acidity</th>\n",
       "      <th>citric acid</th>\n",
       "      <th>residual sugar</th>\n",
       "      <th>chlorides</th>\n",
       "      <th>free sulfur dioxide</th>\n",
       "      <th>total sulfur dioxide</th>\n",
       "      <th>density</th>\n",
       "      <th>pH</th>\n",
       "      <th>sulphates</th>\n",
       "      <th>alcohol</th>\n",
       "      <th>quality</th>\n",
       "    </tr>\n",
       "  </thead>\n",
       "  <tbody>\n",
       "    <tr>\n",
       "      <th>0</th>\n",
       "      <td>7.4</td>\n",
       "      <td>0.70</td>\n",
       "      <td>0.00</td>\n",
       "      <td>1.9</td>\n",
       "      <td>0.076</td>\n",
       "      <td>11.0</td>\n",
       "      <td>34.0</td>\n",
       "      <td>0.9978</td>\n",
       "      <td>3.51</td>\n",
       "      <td>0.56</td>\n",
       "      <td>9.4</td>\n",
       "      <td>5</td>\n",
       "    </tr>\n",
       "    <tr>\n",
       "      <th>1</th>\n",
       "      <td>7.8</td>\n",
       "      <td>0.88</td>\n",
       "      <td>0.00</td>\n",
       "      <td>2.6</td>\n",
       "      <td>0.098</td>\n",
       "      <td>25.0</td>\n",
       "      <td>67.0</td>\n",
       "      <td>0.9968</td>\n",
       "      <td>3.20</td>\n",
       "      <td>0.68</td>\n",
       "      <td>9.8</td>\n",
       "      <td>5</td>\n",
       "    </tr>\n",
       "    <tr>\n",
       "      <th>2</th>\n",
       "      <td>7.8</td>\n",
       "      <td>0.76</td>\n",
       "      <td>0.04</td>\n",
       "      <td>2.3</td>\n",
       "      <td>0.092</td>\n",
       "      <td>15.0</td>\n",
       "      <td>54.0</td>\n",
       "      <td>0.9970</td>\n",
       "      <td>3.26</td>\n",
       "      <td>0.65</td>\n",
       "      <td>9.8</td>\n",
       "      <td>5</td>\n",
       "    </tr>\n",
       "    <tr>\n",
       "      <th>3</th>\n",
       "      <td>11.2</td>\n",
       "      <td>0.28</td>\n",
       "      <td>0.56</td>\n",
       "      <td>1.9</td>\n",
       "      <td>0.075</td>\n",
       "      <td>17.0</td>\n",
       "      <td>60.0</td>\n",
       "      <td>0.9980</td>\n",
       "      <td>3.16</td>\n",
       "      <td>0.58</td>\n",
       "      <td>9.8</td>\n",
       "      <td>6</td>\n",
       "    </tr>\n",
       "    <tr>\n",
       "      <th>4</th>\n",
       "      <td>7.4</td>\n",
       "      <td>0.70</td>\n",
       "      <td>0.00</td>\n",
       "      <td>1.9</td>\n",
       "      <td>0.076</td>\n",
       "      <td>11.0</td>\n",
       "      <td>34.0</td>\n",
       "      <td>0.9978</td>\n",
       "      <td>3.51</td>\n",
       "      <td>0.56</td>\n",
       "      <td>9.4</td>\n",
       "      <td>5</td>\n",
       "    </tr>\n",
       "  </tbody>\n",
       "</table>\n",
       "</div>"
      ],
      "text/plain": [
       "   fixed acidity  volatile acidity  citric acid  residual sugar  chlorides  \\\n",
       "0            7.4              0.70         0.00             1.9      0.076   \n",
       "1            7.8              0.88         0.00             2.6      0.098   \n",
       "2            7.8              0.76         0.04             2.3      0.092   \n",
       "3           11.2              0.28         0.56             1.9      0.075   \n",
       "4            7.4              0.70         0.00             1.9      0.076   \n",
       "\n",
       "   free sulfur dioxide  total sulfur dioxide  density    pH  sulphates  \\\n",
       "0                 11.0                  34.0   0.9978  3.51       0.56   \n",
       "1                 25.0                  67.0   0.9968  3.20       0.68   \n",
       "2                 15.0                  54.0   0.9970  3.26       0.65   \n",
       "3                 17.0                  60.0   0.9980  3.16       0.58   \n",
       "4                 11.0                  34.0   0.9978  3.51       0.56   \n",
       "\n",
       "   alcohol  quality  \n",
       "0      9.4        5  \n",
       "1      9.8        5  \n",
       "2      9.8        5  \n",
       "3      9.8        6  \n",
       "4      9.4        5  "
      ]
     },
     "execution_count": 2,
     "metadata": {},
     "output_type": "execute_result"
    }
   ],
   "source": [
    "# Load necessary libraries\n",
    "import pandas as pd\n",
    "import numpy as np\n",
    "import matplotlib.pyplot as plt\n",
    "import seaborn as sns\n",
    "from sklearn.model_selection import train_test_split\n",
    "from sklearn.preprocessing import StandardScaler\n",
    "from sklearn.tree import DecisionTreeClassifier\n",
    "from sklearn.metrics import classification_report, roc_curve, auc, confusion_matrix\n",
    "\n",
    "# Load the dataset\n",
    "file_path = \"/kaggle/input/red-wine-quality-cortez-et-al-2009/winequality-red.csv\"\n",
    "df = pd.read_csv(file_path)\n",
    "\n",
    "# Display basic information\n",
    "print(\"Dataset shape:\", df.shape)\n",
    "print(\"Columns:\", df.columns)\n",
    "df.head()\n"
   ]
  },
  {
   "cell_type": "markdown",
   "id": "641c745e",
   "metadata": {
    "papermill": {
     "duration": 0.005144,
     "end_time": "2024-11-30T02:45:54.836749",
     "exception": false,
     "start_time": "2024-11-30T02:45:54.831605",
     "status": "completed"
    },
    "tags": []
   },
   "source": [
    "# Step 2: Exploratory Data Analysis (EDA)\n"
   ]
  },
  {
   "cell_type": "markdown",
   "id": "48459091",
   "metadata": {
    "papermill": {
     "duration": 0.006078,
     "end_time": "2024-11-30T02:45:54.848225",
     "exception": false,
     "start_time": "2024-11-30T02:45:54.842147",
     "status": "completed"
    },
    "tags": []
   },
   "source": [
    "\n",
    "\n",
    "Explore key characteristics of the dataset.\n",
    "\n",
    "\n",
    "\n",
    "2.1 Summary Statistics"
   ]
  },
  {
   "cell_type": "code",
   "execution_count": 3,
   "id": "1122cd65",
   "metadata": {
    "execution": {
     "iopub.execute_input": "2024-11-30T02:45:54.860355Z",
     "iopub.status.busy": "2024-11-30T02:45:54.859968Z",
     "iopub.status.idle": "2024-11-30T02:45:54.903860Z",
     "shell.execute_reply": "2024-11-30T02:45:54.902758Z"
    },
    "papermill": {
     "duration": 0.052661,
     "end_time": "2024-11-30T02:45:54.906151",
     "exception": false,
     "start_time": "2024-11-30T02:45:54.853490",
     "status": "completed"
    },
    "tags": []
   },
   "outputs": [
    {
     "data": {
      "text/html": [
       "<div>\n",
       "<style scoped>\n",
       "    .dataframe tbody tr th:only-of-type {\n",
       "        vertical-align: middle;\n",
       "    }\n",
       "\n",
       "    .dataframe tbody tr th {\n",
       "        vertical-align: top;\n",
       "    }\n",
       "\n",
       "    .dataframe thead th {\n",
       "        text-align: right;\n",
       "    }\n",
       "</style>\n",
       "<table border=\"1\" class=\"dataframe\">\n",
       "  <thead>\n",
       "    <tr style=\"text-align: right;\">\n",
       "      <th></th>\n",
       "      <th>fixed acidity</th>\n",
       "      <th>volatile acidity</th>\n",
       "      <th>citric acid</th>\n",
       "      <th>residual sugar</th>\n",
       "      <th>chlorides</th>\n",
       "      <th>free sulfur dioxide</th>\n",
       "      <th>total sulfur dioxide</th>\n",
       "      <th>density</th>\n",
       "      <th>pH</th>\n",
       "      <th>sulphates</th>\n",
       "      <th>alcohol</th>\n",
       "      <th>quality</th>\n",
       "    </tr>\n",
       "  </thead>\n",
       "  <tbody>\n",
       "    <tr>\n",
       "      <th>count</th>\n",
       "      <td>1599.000000</td>\n",
       "      <td>1599.000000</td>\n",
       "      <td>1599.000000</td>\n",
       "      <td>1599.000000</td>\n",
       "      <td>1599.000000</td>\n",
       "      <td>1599.000000</td>\n",
       "      <td>1599.000000</td>\n",
       "      <td>1599.000000</td>\n",
       "      <td>1599.000000</td>\n",
       "      <td>1599.000000</td>\n",
       "      <td>1599.000000</td>\n",
       "      <td>1599.000000</td>\n",
       "    </tr>\n",
       "    <tr>\n",
       "      <th>mean</th>\n",
       "      <td>8.319637</td>\n",
       "      <td>0.527821</td>\n",
       "      <td>0.270976</td>\n",
       "      <td>2.538806</td>\n",
       "      <td>0.087467</td>\n",
       "      <td>15.874922</td>\n",
       "      <td>46.467792</td>\n",
       "      <td>0.996747</td>\n",
       "      <td>3.311113</td>\n",
       "      <td>0.658149</td>\n",
       "      <td>10.422983</td>\n",
       "      <td>5.636023</td>\n",
       "    </tr>\n",
       "    <tr>\n",
       "      <th>std</th>\n",
       "      <td>1.741096</td>\n",
       "      <td>0.179060</td>\n",
       "      <td>0.194801</td>\n",
       "      <td>1.409928</td>\n",
       "      <td>0.047065</td>\n",
       "      <td>10.460157</td>\n",
       "      <td>32.895324</td>\n",
       "      <td>0.001887</td>\n",
       "      <td>0.154386</td>\n",
       "      <td>0.169507</td>\n",
       "      <td>1.065668</td>\n",
       "      <td>0.807569</td>\n",
       "    </tr>\n",
       "    <tr>\n",
       "      <th>min</th>\n",
       "      <td>4.600000</td>\n",
       "      <td>0.120000</td>\n",
       "      <td>0.000000</td>\n",
       "      <td>0.900000</td>\n",
       "      <td>0.012000</td>\n",
       "      <td>1.000000</td>\n",
       "      <td>6.000000</td>\n",
       "      <td>0.990070</td>\n",
       "      <td>2.740000</td>\n",
       "      <td>0.330000</td>\n",
       "      <td>8.400000</td>\n",
       "      <td>3.000000</td>\n",
       "    </tr>\n",
       "    <tr>\n",
       "      <th>25%</th>\n",
       "      <td>7.100000</td>\n",
       "      <td>0.390000</td>\n",
       "      <td>0.090000</td>\n",
       "      <td>1.900000</td>\n",
       "      <td>0.070000</td>\n",
       "      <td>7.000000</td>\n",
       "      <td>22.000000</td>\n",
       "      <td>0.995600</td>\n",
       "      <td>3.210000</td>\n",
       "      <td>0.550000</td>\n",
       "      <td>9.500000</td>\n",
       "      <td>5.000000</td>\n",
       "    </tr>\n",
       "    <tr>\n",
       "      <th>50%</th>\n",
       "      <td>7.900000</td>\n",
       "      <td>0.520000</td>\n",
       "      <td>0.260000</td>\n",
       "      <td>2.200000</td>\n",
       "      <td>0.079000</td>\n",
       "      <td>14.000000</td>\n",
       "      <td>38.000000</td>\n",
       "      <td>0.996750</td>\n",
       "      <td>3.310000</td>\n",
       "      <td>0.620000</td>\n",
       "      <td>10.200000</td>\n",
       "      <td>6.000000</td>\n",
       "    </tr>\n",
       "    <tr>\n",
       "      <th>75%</th>\n",
       "      <td>9.200000</td>\n",
       "      <td>0.640000</td>\n",
       "      <td>0.420000</td>\n",
       "      <td>2.600000</td>\n",
       "      <td>0.090000</td>\n",
       "      <td>21.000000</td>\n",
       "      <td>62.000000</td>\n",
       "      <td>0.997835</td>\n",
       "      <td>3.400000</td>\n",
       "      <td>0.730000</td>\n",
       "      <td>11.100000</td>\n",
       "      <td>6.000000</td>\n",
       "    </tr>\n",
       "    <tr>\n",
       "      <th>max</th>\n",
       "      <td>15.900000</td>\n",
       "      <td>1.580000</td>\n",
       "      <td>1.000000</td>\n",
       "      <td>15.500000</td>\n",
       "      <td>0.611000</td>\n",
       "      <td>72.000000</td>\n",
       "      <td>289.000000</td>\n",
       "      <td>1.003690</td>\n",
       "      <td>4.010000</td>\n",
       "      <td>2.000000</td>\n",
       "      <td>14.900000</td>\n",
       "      <td>8.000000</td>\n",
       "    </tr>\n",
       "  </tbody>\n",
       "</table>\n",
       "</div>"
      ],
      "text/plain": [
       "       fixed acidity  volatile acidity  citric acid  residual sugar  \\\n",
       "count    1599.000000       1599.000000  1599.000000     1599.000000   \n",
       "mean        8.319637          0.527821     0.270976        2.538806   \n",
       "std         1.741096          0.179060     0.194801        1.409928   \n",
       "min         4.600000          0.120000     0.000000        0.900000   \n",
       "25%         7.100000          0.390000     0.090000        1.900000   \n",
       "50%         7.900000          0.520000     0.260000        2.200000   \n",
       "75%         9.200000          0.640000     0.420000        2.600000   \n",
       "max        15.900000          1.580000     1.000000       15.500000   \n",
       "\n",
       "         chlorides  free sulfur dioxide  total sulfur dioxide      density  \\\n",
       "count  1599.000000          1599.000000           1599.000000  1599.000000   \n",
       "mean      0.087467            15.874922             46.467792     0.996747   \n",
       "std       0.047065            10.460157             32.895324     0.001887   \n",
       "min       0.012000             1.000000              6.000000     0.990070   \n",
       "25%       0.070000             7.000000             22.000000     0.995600   \n",
       "50%       0.079000            14.000000             38.000000     0.996750   \n",
       "75%       0.090000            21.000000             62.000000     0.997835   \n",
       "max       0.611000            72.000000            289.000000     1.003690   \n",
       "\n",
       "                pH    sulphates      alcohol      quality  \n",
       "count  1599.000000  1599.000000  1599.000000  1599.000000  \n",
       "mean      3.311113     0.658149    10.422983     5.636023  \n",
       "std       0.154386     0.169507     1.065668     0.807569  \n",
       "min       2.740000     0.330000     8.400000     3.000000  \n",
       "25%       3.210000     0.550000     9.500000     5.000000  \n",
       "50%       3.310000     0.620000    10.200000     6.000000  \n",
       "75%       3.400000     0.730000    11.100000     6.000000  \n",
       "max       4.010000     2.000000    14.900000     8.000000  "
      ]
     },
     "execution_count": 3,
     "metadata": {},
     "output_type": "execute_result"
    }
   ],
   "source": [
    "# Summary statistics\n",
    "df.describe()\n"
   ]
  },
  {
   "cell_type": "markdown",
   "id": "e2bccda0",
   "metadata": {
    "papermill": {
     "duration": 0.005469,
     "end_time": "2024-11-30T02:45:54.917529",
     "exception": false,
     "start_time": "2024-11-30T02:45:54.912060",
     "status": "completed"
    },
    "tags": []
   },
   "source": [
    "2.2 Check for Missing Values"
   ]
  },
  {
   "cell_type": "code",
   "execution_count": 4,
   "id": "30291474",
   "metadata": {
    "execution": {
     "iopub.execute_input": "2024-11-30T02:45:54.930787Z",
     "iopub.status.busy": "2024-11-30T02:45:54.930109Z",
     "iopub.status.idle": "2024-11-30T02:45:54.936849Z",
     "shell.execute_reply": "2024-11-30T02:45:54.935795Z"
    },
    "papermill": {
     "duration": 0.01623,
     "end_time": "2024-11-30T02:45:54.939345",
     "exception": false,
     "start_time": "2024-11-30T02:45:54.923115",
     "status": "completed"
    },
    "tags": []
   },
   "outputs": [
    {
     "name": "stdout",
     "output_type": "stream",
     "text": [
      "Missing values in each column:\n",
      " fixed acidity           0\n",
      "volatile acidity        0\n",
      "citric acid             0\n",
      "residual sugar          0\n",
      "chlorides               0\n",
      "free sulfur dioxide     0\n",
      "total sulfur dioxide    0\n",
      "density                 0\n",
      "pH                      0\n",
      "sulphates               0\n",
      "alcohol                 0\n",
      "quality                 0\n",
      "dtype: int64\n"
     ]
    }
   ],
   "source": [
    "# Check for missing values\n",
    "print(\"Missing values in each column:\\n\", df.isnull().sum())\n"
   ]
  },
  {
   "cell_type": "markdown",
   "id": "6955bce7",
   "metadata": {
    "papermill": {
     "duration": 0.005277,
     "end_time": "2024-11-30T02:45:54.950369",
     "exception": false,
     "start_time": "2024-11-30T02:45:54.945092",
     "status": "completed"
    },
    "tags": []
   },
   "source": [
    "2.3 Distribution of Quality Scores"
   ]
  },
  {
   "cell_type": "code",
   "execution_count": 5,
   "id": "965a8d46",
   "metadata": {
    "execution": {
     "iopub.execute_input": "2024-11-30T02:45:54.963472Z",
     "iopub.status.busy": "2024-11-30T02:45:54.963109Z",
     "iopub.status.idle": "2024-11-30T02:45:55.265142Z",
     "shell.execute_reply": "2024-11-30T02:45:55.264114Z"
    },
    "papermill": {
     "duration": 0.311619,
     "end_time": "2024-11-30T02:45:55.267635",
     "exception": false,
     "start_time": "2024-11-30T02:45:54.956016",
     "status": "completed"
    },
    "tags": []
   },
   "outputs": [
    {
     "data": {
      "image/png": "[encoded data removed]",
      "text/plain": [
       "<Figure size 800x500 with 1 Axes>"
      ]
     },
     "metadata": {},
     "output_type": "display_data"
    }
   ],
   "source": [
    "# Plot quality distribution\n",
    "plt.figure(figsize=(8, 5))\n",
    "sns.countplot(x=\"quality\", data=df, palette=\"viridis\")\n",
    "plt.title(\"Distribution of Wine Quality Scores\")\n",
    "plt.xlabel(\"Quality\")\n",
    "plt.ylabel(\"Count\")\n",
    "plt.show()\n"
   ]
  },
  {
   "cell_type": "markdown",
   "id": "9bf98416",
   "metadata": {
    "papermill": {
     "duration": 0.005977,
     "end_time": "2024-11-30T02:45:55.280011",
     "exception": false,
     "start_time": "2024-11-30T02:45:55.274034",
     "status": "completed"
    },
    "tags": []
   },
   "source": [
    "# Step 3: Data Preprocessing\n"
   ]
  },
  {
   "cell_type": "markdown",
   "id": "b50d6933",
   "metadata": {
    "papermill": {
     "duration": 0.005904,
     "end_time": "2024-11-30T02:45:55.292080",
     "exception": false,
     "start_time": "2024-11-30T02:45:55.286176",
     "status": "completed"
    },
    "tags": []
   },
   "source": [
    "\n",
    "3.1 Convert Quality to Binary Classification\n",
    "\n",
    "Define wines with a quality score of 7 or higher as \"good\" (1) and others as \"not good\" (0)."
   ]
  },
  {
   "cell_type": "code",
   "execution_count": 6,
   "id": "af931329",
   "metadata": {
    "execution": {
     "iopub.execute_input": "2024-11-30T02:45:55.306026Z",
     "iopub.status.busy": "2024-11-30T02:45:55.305615Z",
     "iopub.status.idle": "2024-11-30T02:45:55.531985Z",
     "shell.execute_reply": "2024-11-30T02:45:55.530735Z"
    },
    "papermill": {
     "duration": 0.236109,
     "end_time": "2024-11-30T02:45:55.534246",
     "exception": false,
     "start_time": "2024-11-30T02:45:55.298137",
     "status": "completed"
    },
    "tags": []
   },
   "outputs": [
    {
     "data": {
      "image/png": "[encoded data removed]",
      "text/plain": [
       "<Figure size 600x400 with 1 Axes>"
      ]
     },
     "metadata": {},
     "output_type": "display_data"
    }
   ],
   "source": [
    "# Binary classification\n",
    "df['quality_binary'] = (df['quality'] >= 7).astype(int)\n",
    "\n",
    "# Check the distribution of the new variable\n",
    "plt.figure(figsize=(6, 4))\n",
    "sns.countplot(x=\"quality_binary\", data=df, palette=\"coolwarm\")\n",
    "plt.title(\"Binary Classification: Good (1) vs. Not Good (0)\")\n",
    "plt.xlabel(\"Wine Quality\")\n",
    "plt.ylabel(\"Count\")\n",
    "plt.show()\n"
   ]
  },
  {
   "cell_type": "markdown",
   "id": "83db2270",
   "metadata": {
    "papermill": {
     "duration": 0.006258,
     "end_time": "2024-11-30T02:45:55.547452",
     "exception": false,
     "start_time": "2024-11-30T02:45:55.541194",
     "status": "completed"
    },
    "tags": []
   },
   "source": [
    "3.2 Feature and Target Separation"
   ]
  },
  {
   "cell_type": "code",
   "execution_count": 7,
   "id": "990a06dd",
   "metadata": {
    "execution": {
     "iopub.execute_input": "2024-11-30T02:45:55.564226Z",
     "iopub.status.busy": "2024-11-30T02:45:55.563810Z",
     "iopub.status.idle": "2024-11-30T02:45:55.571146Z",
     "shell.execute_reply": "2024-11-30T02:45:55.570146Z"
    },
    "papermill": {
     "duration": 0.01946,
     "end_time": "2024-11-30T02:45:55.573349",
     "exception": false,
     "start_time": "2024-11-30T02:45:55.553889",
     "status": "completed"
    },
    "tags": []
   },
   "outputs": [],
   "source": [
    "# Separate features and target\n",
    "X = df.drop(columns=[\"quality\", \"quality_binary\"])\n",
    "y = df[\"quality_binary\"]\n"
   ]
  },
  {
   "cell_type": "markdown",
   "id": "8c5b98c5",
   "metadata": {
    "papermill": {
     "duration": 0.006307,
     "end_time": "2024-11-30T02:45:55.586281",
     "exception": false,
     "start_time": "2024-11-30T02:45:55.579974",
     "status": "completed"
    },
    "tags": []
   },
   "source": [
    "3.3 Train-Test Split"
   ]
  },
  {
   "cell_type": "code",
   "execution_count": 8,
   "id": "fa228121",
   "metadata": {
    "execution": {
     "iopub.execute_input": "2024-11-30T02:45:55.600765Z",
     "iopub.status.busy": "2024-11-30T02:45:55.600375Z",
     "iopub.status.idle": "2024-11-30T02:45:55.609620Z",
     "shell.execute_reply": "2024-11-30T02:45:55.608684Z"
    },
    "papermill": {
     "duration": 0.019207,
     "end_time": "2024-11-30T02:45:55.611913",
     "exception": false,
     "start_time": "2024-11-30T02:45:55.592706",
     "status": "completed"
    },
    "tags": []
   },
   "outputs": [],
   "source": [
    "# Split dataset into training and testing sets\n",
    "X_train, X_test, y_train, y_test = train_test_split(X, y, test_size=0.25, random_state=42, stratify=y)\n"
   ]
  },
  {
   "cell_type": "markdown",
   "id": "9648a082",
   "metadata": {
    "papermill": {
     "duration": 0.006312,
     "end_time": "2024-11-30T02:45:55.624820",
     "exception": false,
     "start_time": "2024-11-30T02:45:55.618508",
     "status": "completed"
    },
    "tags": []
   },
   "source": [
    "3.4 Feature Scaling\n",
    "\n",
    "Standardize the features to improve model performance."
   ]
  },
  {
   "cell_type": "code",
   "execution_count": 9,
   "id": "33fe9769",
   "metadata": {
    "execution": {
     "iopub.execute_input": "2024-11-30T02:45:55.639305Z",
     "iopub.status.busy": "2024-11-30T02:45:55.638907Z",
     "iopub.status.idle": "2024-11-30T02:45:55.648667Z",
     "shell.execute_reply": "2024-11-30T02:45:55.647901Z"
    },
    "papermill": {
     "duration": 0.019417,
     "end_time": "2024-11-30T02:45:55.650727",
     "exception": false,
     "start_time": "2024-11-30T02:45:55.631310",
     "status": "completed"
    },
    "tags": []
   },
   "outputs": [],
   "source": [
    "# Standardizing the features\n",
    "scaler = StandardScaler()\n",
    "X_train_scaled = scaler.fit_transform(X_train)\n",
    "X_test_scaled = scaler.transform(X_test)\n"
   ]
  },
  {
   "cell_type": "markdown",
   "id": "db8a244b",
   "metadata": {
    "papermill": {
     "duration": 0.006287,
     "end_time": "2024-11-30T02:45:55.663591",
     "exception": false,
     "start_time": "2024-11-30T02:45:55.657304",
     "status": "completed"
    },
    "tags": []
   },
   "source": [
    "# Step 4: Decision Tree Classifier\n",
    "\n",
    "4.1 Train the Model\n",
    "\n"
   ]
  },
  {
   "cell_type": "code",
   "execution_count": 10,
   "id": "3eb33f80",
   "metadata": {
    "execution": {
     "iopub.execute_input": "2024-11-30T02:45:55.678158Z",
     "iopub.status.busy": "2024-11-30T02:45:55.677454Z",
     "iopub.status.idle": "2024-11-30T02:45:55.694224Z",
     "shell.execute_reply": "2024-11-30T02:45:55.693149Z"
    },
    "papermill": {
     "duration": 0.026552,
     "end_time": "2024-11-30T02:45:55.696539",
     "exception": false,
     "start_time": "2024-11-30T02:45:55.669987",
     "status": "completed"
    },
    "tags": []
   },
   "outputs": [
    {
     "data": {
      "text/html": [
       "<style>#sk-container-id-1 {color: black;background-color: white;}#sk-container-id-1 pre{padding: 0;}#sk-container-id-1 div.sk-toggleable {background-color: white;}#sk-container-id-1 label.sk-toggleable__label {cursor: pointer;display: block;width: 100%;margin-bottom: 0;padding: 0.3em;box-sizing: border-box;text-align: center;}#sk-container-id-1 label.sk-toggleable__label-arrow:before {content: \"▸\";float: left;margin-right: 0.25em;color: #696969;}#sk-container-id-1 label.sk-toggleable__label-arrow:hover:before {color: black;}#sk-container-id-1 div.sk-estimator:hover label.sk-toggleable__label-arrow:before {color: black;}#sk-container-id-1 div.sk-toggleable__content {max-height: 0;max-width: 0;overflow: hidden;text-align: left;background-color: #f0f8ff;}#sk-container-id-1 div.sk-toggleable__content pre {margin: 0.2em;color: black;border-radius: 0.25em;background-color: #f0f8ff;}#sk-container-id-1 input.sk-toggleable__control:checked~div.sk-toggleable__content {max-height: 200px;max-width: 100%;overflow: auto;}#sk-container-id-1 input.sk-toggleable__control:checked~label.sk-toggleable__label-arrow:before {content: \"▾\";}#sk-container-id-1 div.sk-estimator input.sk-toggleable__control:checked~label.sk-toggleable__label {background-color: #d4ebff;}#sk-container-id-1 div.sk-label input.sk-toggleable__control:checked~label.sk-toggleable__label {background-color: #d4ebff;}#sk-container-id-1 input.sk-hidden--visually {border: 0;clip: rect(1px 1px 1px 1px);clip: rect(1px, 1px, 1px, 1px);height: 1px;margin: -1px;overflow: hidden;padding: 0;position: absolute;width: 1px;}#sk-container-id-1 div.sk-estimator {font-family: monospace;background-color: #f0f8ff;border: 1px dotted black;border-radius: 0.25em;box-sizing: border-box;margin-bottom: 0.5em;}#sk-container-id-1 div.sk-estimator:hover {background-color: #d4ebff;}#sk-container-id-1 div.sk-parallel-item::after {content: \"\";width: 100%;border-bottom: 1px solid gray;flex-grow: 1;}#sk-container-id-1 div.sk-label:hover label.sk-toggleable__label {background-color: #d4ebff;}#sk-container-id-1 div.sk-serial::before {content: \"\";position: absolute;border-left: 1px solid gray;box-sizing: border-box;top: 0;bottom: 0;left: 50%;z-index: 0;}#sk-container-id-1 div.sk-serial {display: flex;flex-direction: column;align-items: center;background-color: white;padding-right: 0.2em;padding-left: 0.2em;position: relative;}#sk-container-id-1 div.sk-item {position: relative;z-index: 1;}#sk-container-id-1 div.sk-parallel {display: flex;align-items: stretch;justify-content: center;background-color: white;position: relative;}#sk-container-id-1 div.sk-item::before, #sk-container-id-1 div.sk-parallel-item::before {content: \"\";position: absolute;border-left: 1px solid gray;box-sizing: border-box;top: 0;bottom: 0;left: 50%;z-index: -1;}#sk-container-id-1 div.sk-parallel-item {display: flex;flex-direction: column;z-index: 1;position: relative;background-color: white;}#sk-container-id-1 div.sk-parallel-item:first-child::after {align-self: flex-end;width: 50%;}#sk-container-id-1 div.sk-parallel-item:last-child::after {align-self: flex-start;width: 50%;}#sk-container-id-1 div.sk-parallel-item:only-child::after {width: 0;}#sk-container-id-1 div.sk-dashed-wrapped {border: 1px dashed gray;margin: 0 0.4em 0.5em 0.4em;box-sizing: border-box;padding-bottom: 0.4em;background-color: white;}#sk-container-id-1 div.sk-label label {font-family: monospace;font-weight: bold;display: inline-block;line-height: 1.2em;}#sk-container-id-1 div.sk-label-container {text-align: center;}#sk-container-id-1 div.sk-container {/* jupyter's `normalize.less` sets `[hidden] { display: none; }` but bootstrap.min.css set `[hidden] { display: none !important; }` so we also need the `!important` here to be able to override the default hidden behavior on the sphinx rendered scikit-learn.org. See: https://github.com/scikit-learn/scikit-learn/issues/21755 */display: inline-block !important;position: relative;}#sk-container-id-1 div.sk-text-repr-fallback {display: none;}</style><div id=\"sk-container-id-1\" class=\"sk-top-container\"><div class=\"sk-text-repr-fallback\"><pre>DecisionTreeClassifier(max_depth=5, random_state=42)</pre><b>In a Jupyter environment, please rerun this cell to show the HTML representation or trust the notebook. <br />On GitHub, the HTML representation is unable to render, please try loading this page with nbviewer.org.</b></div><div class=\"sk-container\" hidden><div class=\"sk-item\"><div class=\"sk-estimator sk-toggleable\"><input class=\"sk-toggleable__control sk-hidden--visually\" id=\"sk-estimator-id-1\" type=\"checkbox\" checked><label for=\"sk-estimator-id-1\" class=\"sk-toggleable__label sk-toggleable__label-arrow\">DecisionTreeClassifier</label><div class=\"sk-toggleable__content\"><pre>DecisionTreeClassifier(max_depth=5, random_state=42)</pre></div></div></div></div></div>"
      ],
      "text/plain": [
       "DecisionTreeClassifier(max_depth=5, random_state=42)"
      ]
     },
     "execution_count": 10,
     "metadata": {},
     "output_type": "execute_result"
    }
   ],
   "source": [
    "# Train a decision tree classifier\n",
    "dt_model = DecisionTreeClassifier(random_state=42, max_depth=5)\n",
    "dt_model.fit(X_train_scaled, y_train)\n"
   ]
  },
  {
   "cell_type": "markdown",
   "id": "072e7a30",
   "metadata": {
    "papermill": {
     "duration": 0.00682,
     "end_time": "2024-11-30T02:45:55.710507",
     "exception": false,
     "start_time": "2024-11-30T02:45:55.703687",
     "status": "completed"
    },
    "tags": []
   },
   "source": [
    "4.2 Evaluate the Model"
   ]
  },
  {
   "cell_type": "code",
   "execution_count": 11,
   "id": "583972fe",
   "metadata": {
    "execution": {
     "iopub.execute_input": "2024-11-30T02:45:55.725958Z",
     "iopub.status.busy": "2024-11-30T02:45:55.725549Z",
     "iopub.status.idle": "2024-11-30T02:45:55.994449Z",
     "shell.execute_reply": "2024-11-30T02:45:55.993377Z"
    },
    "papermill": {
     "duration": 0.279264,
     "end_time": "2024-11-30T02:45:55.996687",
     "exception": false,
     "start_time": "2024-11-30T02:45:55.717423",
     "status": "completed"
    },
    "tags": []
   },
   "outputs": [
    {
     "name": "stdout",
     "output_type": "stream",
     "text": [
      "Classification Report:\n",
      "               precision    recall  f1-score   support\n",
      "\n",
      "           0       0.93      0.97      0.95       346\n",
      "           1       0.73      0.50      0.59        54\n",
      "\n",
      "    accuracy                           0.91       400\n",
      "   macro avg       0.83      0.74      0.77       400\n",
      "weighted avg       0.90      0.91      0.90       400\n",
      "\n"
     ]
    },
    {
     "data": {
      "image/png": "[encoded data removed]",
      "text/plain": [
       "<Figure size 600x400 with 2 Axes>"
      ]
     },
     "metadata": {},
     "output_type": "display_data"
    }
   ],
   "source": [
    "# Predict on test data\n",
    "y_pred = dt_model.predict(X_test_scaled)\n",
    "\n",
    "# Classification report\n",
    "print(\"Classification Report:\\n\", classification_report(y_test, y_pred))\n",
    "\n",
    "# Confusion matrix\n",
    "conf_matrix = confusion_matrix(y_test, y_pred)\n",
    "plt.figure(figsize=(6, 4))\n",
    "sns.heatmap(conf_matrix, annot=True, fmt=\"d\", cmap=\"Blues\")\n",
    "plt.title(\"Confusion Matrix\")\n",
    "plt.xlabel(\"Predicted\")\n",
    "plt.ylabel(\"Actual\")\n",
    "plt.show()\n"
   ]
  },
  {
   "cell_type": "markdown",
   "id": "0efbdc88",
   "metadata": {
    "papermill": {
     "duration": 0.007134,
     "end_time": "2024-11-30T02:45:56.011396",
     "exception": false,
     "start_time": "2024-11-30T02:45:56.004262",
     "status": "completed"
    },
    "tags": []
   },
   "source": [
    "# Step 5: ROC Curve and AUC"
   ]
  },
  {
   "cell_type": "code",
   "execution_count": 12,
   "id": "6263bc1c",
   "metadata": {
    "execution": {
     "iopub.execute_input": "2024-11-30T02:45:56.028562Z",
     "iopub.status.busy": "2024-11-30T02:45:56.027679Z",
     "iopub.status.idle": "2024-11-30T02:45:56.305635Z",
     "shell.execute_reply": "2024-11-30T02:45:56.304508Z"
    },
    "papermill": {
     "duration": 0.289018,
     "end_time": "2024-11-30T02:45:56.307961",
     "exception": false,
     "start_time": "2024-11-30T02:45:56.018943",
     "status": "completed"
    },
    "tags": []
   },
   "outputs": [
    {
     "data": {
      "image/png": "[encoded data removed]",
      "text/plain": [
       "<Figure size 800x600 with 1 Axes>"
      ]
     },
     "metadata": {},
     "output_type": "display_data"
    }
   ],
   "source": [
    "# Calculate probabilities for ROC\n",
    "y_pred_prob = dt_model.predict_proba(X_test_scaled)[:, 1]\n",
    "fpr, tpr, thresholds = roc_curve(y_test, y_pred_prob)\n",
    "roc_auc = auc(fpr, tpr)\n",
    "\n",
    "# Plot ROC curve\n",
    "plt.figure(figsize=(8, 6))\n",
    "plt.plot(fpr, tpr, label=f\"AUC = {roc_auc:.2f}\", color=\"darkorange\")\n",
    "plt.plot([0, 1], [0, 1], color=\"navy\", linestyle=\"--\")\n",
    "plt.title(\"Receiver Operating Characteristic (ROC) Curve\")\n",
    "plt.xlabel(\"False Positive Rate\")\n",
    "plt.ylabel(\"True Positive Rate\")\n",
    "plt.legend(loc=\"lower right\")\n",
    "plt.show()\n"
   ]
  },
  {
   "cell_type": "markdown",
   "id": "5716324b",
   "metadata": {
    "papermill": {
     "duration": 0.009359,
     "end_time": "2024-11-30T02:45:56.325783",
     "exception": false,
     "start_time": "2024-11-30T02:45:56.316424",
     "status": "completed"
    },
    "tags": []
   },
   "source": [
    "# Step 6: Insights and Conclusion\n",
    "Insights:\n",
    "Quality Distribution: Most wines are rated \"normal,\" with fewer classified as excellent or poor. This imbalance is addressed by converting the problem into binary classification.\n",
    "Key Features: Alcohol and volatile acidity show significant influence on wine quality based on exploratory scatter plots (can be added).\n",
    "Model Performance: The decision tree achieved reasonable accuracy and an AUC score, showing its capability to distinguish between good and not-good wine.\n",
    "."
   ]
  },
  {
   "cell_type": "markdown",
   "id": "8c34c92e",
   "metadata": {
    "papermill": {
     "duration": 0.007752,
     "end_time": "2024-11-30T02:45:56.341925",
     "exception": false,
     "start_time": "2024-11-30T02:45:56.334173",
     "status": "completed"
    },
    "tags": []
   },
   "source": [
    "# Conclusion\n",
    "\n",
    "This analysis highlights the key physicochemical properties of red wine that impact quality. By using a simple decision tree model, we identified that features such as alcohol and acidity levels are critical. Further analysis, such as hyperparameter tuning or using ensemble methods, could improve model performance.\n"
   ]
  },
  {
   "cell_type": "code",
   "execution_count": null,
   "id": "baed994f",
   "metadata": {
    "papermill": {
     "duration": 0.007674,
     "end_time": "2024-11-30T02:45:56.357818",
     "exception": false,
     "start_time": "2024-11-30T02:45:56.350144",
     "status": "completed"
    },
    "tags": []
   },
   "outputs": [],
   "source": []
  }
 ],
 "metadata": {
  "kaggle": {
   "accelerator": "none",
   "dataSources": [
    {
     "datasetId": 4458,
     "sourceId": 8204,
     "sourceType": "datasetVersion"
    },
    {
     "datasetId": 6195336,
     "sourceId": 10054504,
     "sourceType": "datasetVersion"
    }
   ],
   "dockerImageVersionId": 30786,
   "isGpuEnabled": false,
   "isInternetEnabled": false,
   "language": "python",
   "sourceType": "notebook"
  },
  "kernelspec": {
   "display_name": "Python 3",
   "language": "python",
   "name": "python3"
  },
  "language_info": {
   "codemirror_mode": {
    "name": "ipython",
    "version": 3
   },
   "file_extension": ".py",
   "mimetype": "text/x-python",
   "name": "python",
   "nbconvert_exporter": "python",
   "pygments_lexer": "ipython3",
   "version": "3.10.14"
  },
  "papermill": {
   "default_parameters": {},
   "duration": 8.115495,
   "end_time": "2024-11-30T02:45:57.086689",
   "environment_variables": {},
   "exception": null,
   "input_path": "__notebook__.ipynb",
   "output_path": "__notebook__.ipynb",
   "parameters": {},
   "start_time": "2024-11-30T02:45:48.971194",
   "version": "2.6.0"
  }
 },
 "nbformat": 4,
 "nbformat_minor": 5
}
